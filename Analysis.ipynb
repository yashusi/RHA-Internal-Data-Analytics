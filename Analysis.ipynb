{
 "cells": [
  {
   "cell_type": "markdown",
   "metadata": {},
   "source": [
    "##Generating Event Attendance Bar Plot for Single Community"
   ]
  },
  {
   "cell_type": "code",
   "execution_count": null,
   "metadata": {},
   "outputs": [],
   "source": [
    "import pandas as pd\n",
    "\n",
    "from openpyxl import load_workbook\n",
    "\n",
    "wb = load_workbook(\"RHAexcelTest.xlsx\")\n",
    "community = input(\"Enter Commnuity: \")\n",
    "sheet = wb[community]\n",
    "\n",
    "\n",
    "last_row = sheet.max_row\n",
    "while(sheet.cell(last_row, 1).value is None):\n",
    "    last_row -= 1\n",
    "\n",
    "event_list = []\n",
    "for i in range(2, last_row):\n",
    "    event_list.append(sheet[f\"B{i}\"].value)\n",
    "print(len(event_list))\n",
    "\n",
    "attendance_list = []\n",
    "for j in range(2, last_row):\n",
    "    attendance_list.append(sheet[f\"D{j}\"].value)\n",
    "print(len(attendance_list))\n",
    "df = pd.DataFrame({\"Events\":event_list, \"Attendance\":attendance_list})\n",
    "ax = df.plot.bar(x = \"Events\", y = \"Attendance\", rot = 90)\n"
   ]
  },
  {
   "cell_type": "markdown",
   "metadata": {},
   "source": [
    "##Generating Event Attendance Bar Plot for all Communities"
   ]
  },
  {
   "cell_type": "code",
   "execution_count": null,
   "metadata": {},
   "outputs": [],
   "source": [
    "import pandas as pd\n",
    "\n",
    "from openpyxl import load_workbook\n",
    "\n",
    "wb = load_workbook(\"RHAexcelTest.xlsx\")\n",
    "\n",
    "community_options = [\n",
    "        'Carmichael',\n",
    "        'Cobb',\n",
    "        'Craige',\n",
    "    ]\n",
    "for community in community_options:\n",
    "    sheet = wb[community]\n",
    "\n",
    "    last_row = sheet.max_row\n",
    "    while(sheet.cell(last_row, 1).value is None):\n",
    "        last_row -= 1\n",
    "\n",
    "    event_list = []\n",
    "    for i in range(2, last_row):\n",
    "        event_list.append(sheet[f\"B{i}\"].value)\n",
    "    print(len(event_list))\n",
    "\n",
    "    attendance_list = []\n",
    "    for j in range(2, last_row):\n",
    "        attendance_list.append(sheet[f\"D{j}\"].value)\n",
    "    print(len(attendance_list))\n",
    "    df = pd.DataFrame({\"Events\":event_list, \"Attendance\":attendance_list})\n",
    "    ax = df.plot.bar(x = \"Events\", y = \"Attendance\", rot = 90)"
   ]
  },
  {
   "cell_type": "markdown",
   "metadata": {},
   "source": [
    "#Points for Each Community Bar Plot\n",
    "\n",
    "###Sums up the points for each community and graphs totals of each community"
   ]
  },
  {
   "cell_type": "code",
   "execution_count": null,
   "metadata": {},
   "outputs": [],
   "source": [
    "import pandas as pd\n",
    "from openpyxl import load_workbook\n",
    "\n",
    "wb = load_workbook(\"RHAexcelTest.xlsx\")\n",
    "\n",
    "community_options = [\n",
    "    'Carmichael',\n",
    "    'Cobb',        \n",
    "    'Craige',\n",
    "]\n",
    "\n",
    "total_points = []\n",
    "\n",
    "for community in community_options:\n",
    "    point_sum = 0\n",
    "    sheet = wb[community]\n",
    "    last_row = sheet.max_row\n",
    "    while(sheet.cell(last_row, 1).value is None):\n",
    "        last_row -= 1\n",
    "    for i in range(2, last_row):\n",
    "        point_sum += sheet[f\"E{i}\"].value\n",
    "    total_points.append(point_sum)\n",
    "\n",
    "df = pd.DataFrame({\"Community\":community_options, \"Points\":total_points})\n",
    "ax = df.plot.bar(x = \"Community\", y = \"Points\", rot = 90)"
   ]
  }
 ],
 "metadata": {
  "kernelspec": {
   "display_name": "Python 3",
   "language": "python",
   "name": "python3"
  },
  "language_info": {
   "codemirror_mode": {
    "name": "ipython",
    "version": 3
   },
   "file_extension": ".py",
   "mimetype": "text/x-python",
   "name": "python",
   "nbconvert_exporter": "python",
   "pygments_lexer": "ipython3",
   "version": "3.11.1"
  },
  "orig_nbformat": 4
 },
 "nbformat": 4,
 "nbformat_minor": 2
}
